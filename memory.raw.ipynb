{
 "cells": [
  {
   "cell_type": "code",
   "id": "1423a51d",
   "metadata": {
    "ExecuteTime": {
     "end_time": "2024-08-11T19:57:36.727828Z",
     "start_time": "2024-08-11T19:57:36.722547Z"
    }
   },
   "source": [
    "import pandas as pd\n",
    "import numpy as np\n",
    "import seaborn as sns\n",
    "import matplotlib.pyplot as plt"
   ],
   "outputs": [],
   "execution_count": 2
  },
  {
   "cell_type": "code",
   "id": "8d7433c4",
   "metadata": {
    "ExecuteTime": {
     "end_time": "2024-08-11T19:57:36.875511Z",
     "start_time": "2024-08-11T19:57:36.867804Z"
    }
   },
   "source": [
    "def get_dataset(size):\n",
    "    \"\"\"Create fake dataset\"\"\"\n",
    "    data = pd.DataFrame()\n",
    "    data['model'] = np.random.choice(\n",
    "    ['m1', 'm2', 'm3', 'm4'], size)\n",
    "    data['fuel'] = np.random.choice(['petrol', 'diesel', 'gas'], size)\n",
    "    data['production_date'] = np.random.randint(1990, 2024, size)\n",
    "    data['transmission'] = np.random.choice(\n",
    "    ['mechanical', 'automatic', 'robotic'], size)\n",
    "    data['engine_power'] = np.random.randint(129, 609, size)\n",
    "    data['price'] = np.random.uniform(60000., 12460000, size)\n",
    "    data['count'] = np.random.randint(1, 30, size)\n",
    "    return data"
   ],
   "outputs": [],
   "execution_count": 3
  },
  {
   "cell_type": "markdown",
   "id": "94ec292c",
   "metadata": {},
   "source": [
    "**Изучаем эффективное выделение памяти в Pandas**\n",
    "1. int8: -128 to 127\n",
    "2. int16: -32768 to 32767\n",
    "3. int32: -2147483648 to 2147483647\n",
    "4. int64: -9223372036854775808 to 9223372036854775807"
   ]
  },
  {
   "cell_type": "code",
   "id": "3e166415",
   "metadata": {
    "ExecuteTime": {
     "end_time": "2024-08-11T19:57:37.867848Z",
     "start_time": "2024-08-11T19:57:36.885592Z"
    }
   },
   "source": [
    "SIZE = 1_000_000\n",
    "df = get_dataset(SIZE)"
   ],
   "outputs": [],
   "execution_count": 4
  },
  {
   "cell_type": "code",
   "id": "ae498ee3",
   "metadata": {
    "ExecuteTime": {
     "end_time": "2024-08-11T19:57:38.209112Z",
     "start_time": "2024-08-11T19:57:37.871619Z"
    }
   },
   "source": [
    "df_start = df.copy()"
   ],
   "outputs": [],
   "execution_count": 5
  },
  {
   "cell_type": "code",
   "id": "96649d70",
   "metadata": {
    "ExecuteTime": {
     "end_time": "2024-08-11T19:57:38.254452Z",
     "start_time": "2024-08-11T19:57:38.211625Z"
    }
   },
   "source": "df.head()",
   "outputs": [
    {
     "data": {
      "text/plain": [
       "  model    fuel  production_date transmission  engine_power         price  \\\n",
       "0    m4     gas             2004      robotic           603  3.191154e+06   \n",
       "1    m3  petrol             2022   mechanical           160  1.153265e+07   \n",
       "2    m3  diesel             1995   mechanical           303  1.170555e+07   \n",
       "3    m1  petrol             1992    automatic           482  1.054092e+07   \n",
       "4    m1  petrol             2011      robotic           537  2.813183e+06   \n",
       "\n",
       "   count  \n",
       "0     12  \n",
       "1      7  \n",
       "2      5  \n",
       "3     11  \n",
       "4     14  "
      ],
      "text/html": [
       "<div>\n",
       "<style scoped>\n",
       "    .dataframe tbody tr th:only-of-type {\n",
       "        vertical-align: middle;\n",
       "    }\n",
       "\n",
       "    .dataframe tbody tr th {\n",
       "        vertical-align: top;\n",
       "    }\n",
       "\n",
       "    .dataframe thead th {\n",
       "        text-align: right;\n",
       "    }\n",
       "</style>\n",
       "<table border=\"1\" class=\"dataframe\">\n",
       "  <thead>\n",
       "    <tr style=\"text-align: right;\">\n",
       "      <th></th>\n",
       "      <th>model</th>\n",
       "      <th>fuel</th>\n",
       "      <th>production_date</th>\n",
       "      <th>transmission</th>\n",
       "      <th>engine_power</th>\n",
       "      <th>price</th>\n",
       "      <th>count</th>\n",
       "    </tr>\n",
       "  </thead>\n",
       "  <tbody>\n",
       "    <tr>\n",
       "      <th>0</th>\n",
       "      <td>m4</td>\n",
       "      <td>gas</td>\n",
       "      <td>2004</td>\n",
       "      <td>robotic</td>\n",
       "      <td>603</td>\n",
       "      <td>3.191154e+06</td>\n",
       "      <td>12</td>\n",
       "    </tr>\n",
       "    <tr>\n",
       "      <th>1</th>\n",
       "      <td>m3</td>\n",
       "      <td>petrol</td>\n",
       "      <td>2022</td>\n",
       "      <td>mechanical</td>\n",
       "      <td>160</td>\n",
       "      <td>1.153265e+07</td>\n",
       "      <td>7</td>\n",
       "    </tr>\n",
       "    <tr>\n",
       "      <th>2</th>\n",
       "      <td>m3</td>\n",
       "      <td>diesel</td>\n",
       "      <td>1995</td>\n",
       "      <td>mechanical</td>\n",
       "      <td>303</td>\n",
       "      <td>1.170555e+07</td>\n",
       "      <td>5</td>\n",
       "    </tr>\n",
       "    <tr>\n",
       "      <th>3</th>\n",
       "      <td>m1</td>\n",
       "      <td>petrol</td>\n",
       "      <td>1992</td>\n",
       "      <td>automatic</td>\n",
       "      <td>482</td>\n",
       "      <td>1.054092e+07</td>\n",
       "      <td>11</td>\n",
       "    </tr>\n",
       "    <tr>\n",
       "      <th>4</th>\n",
       "      <td>m1</td>\n",
       "      <td>petrol</td>\n",
       "      <td>2011</td>\n",
       "      <td>robotic</td>\n",
       "      <td>537</td>\n",
       "      <td>2.813183e+06</td>\n",
       "      <td>14</td>\n",
       "    </tr>\n",
       "  </tbody>\n",
       "</table>\n",
       "</div>"
      ]
     },
     "execution_count": 6,
     "metadata": {},
     "output_type": "execute_result"
    }
   ],
   "execution_count": 6
  },
  {
   "cell_type": "code",
   "id": "2f97dbc8",
   "metadata": {
    "ExecuteTime": {
     "end_time": "2024-08-11T19:57:38.512140Z",
     "start_time": "2024-08-11T19:57:38.259276Z"
    }
   },
   "source": "df.info()",
   "outputs": [
    {
     "name": "stdout",
     "output_type": "stream",
     "text": [
      "<class 'pandas.core.frame.DataFrame'>\n",
      "RangeIndex: 1000000 entries, 0 to 999999\n",
      "Data columns (total 7 columns):\n",
      " #   Column           Non-Null Count    Dtype  \n",
      "---  ------           --------------    -----  \n",
      " 0   model            1000000 non-null  object \n",
      " 1   fuel             1000000 non-null  object \n",
      " 2   production_date  1000000 non-null  int64  \n",
      " 3   transmission     1000000 non-null  object \n",
      " 4   engine_power     1000000 non-null  int64  \n",
      " 5   price            1000000 non-null  float64\n",
      " 6   count            1000000 non-null  int64  \n",
      "dtypes: float64(1), int64(3), object(3)\n",
      "memory usage: 53.4+ MB\n"
     ]
    }
   ],
   "execution_count": 7
  },
  {
   "cell_type": "code",
   "id": "664f54f4",
   "metadata": {
    "ExecuteTime": {
     "end_time": "2024-08-11T19:57:38.524478Z",
     "start_time": "2024-08-11T19:57:38.514515Z"
    }
   },
   "source": "df.memory_usage().sum()",
   "outputs": [
    {
     "data": {
      "text/plain": [
       "np.int64(56000132)"
      ]
     },
     "execution_count": 8,
     "metadata": {},
     "output_type": "execute_result"
    }
   ],
   "execution_count": 8
  },
  {
   "cell_type": "markdown",
   "id": "1a9facc8",
   "metadata": {},
   "source": [
    "**production_date**"
   ]
  },
  {
   "cell_type": "code",
   "id": "73e9a11b",
   "metadata": {
    "ExecuteTime": {
     "end_time": "2024-08-11T19:57:38.533915Z",
     "start_time": "2024-08-11T19:57:38.526642Z"
    }
   },
   "source": "print(df['production_date'].min(), df['production_date'].max())",
   "outputs": [
    {
     "name": "stdout",
     "output_type": "stream",
     "text": [
      "1990 2023\n"
     ]
    }
   ],
   "execution_count": 9
  },
  {
   "cell_type": "code",
   "id": "9332fe10",
   "metadata": {
    "ExecuteTime": {
     "end_time": "2024-08-11T19:57:38.543826Z",
     "start_time": "2024-08-11T19:57:38.536225Z"
    }
   },
   "source": "print(df['engine_power'].min(), df['engine_power'].max())",
   "outputs": [
    {
     "name": "stdout",
     "output_type": "stream",
     "text": [
      "129 608\n"
     ]
    }
   ],
   "execution_count": 10
  },
  {
   "cell_type": "code",
   "id": "9f5847ce",
   "metadata": {
    "ExecuteTime": {
     "end_time": "2024-08-11T19:57:38.555457Z",
     "start_time": "2024-08-11T19:57:38.546094Z"
    }
   },
   "source": [
    "df['production_date'] = df['production_date'].astype(np.int16)\n",
    "df['engine_power'] = df['engine_power'].astype(np.int16)"
   ],
   "outputs": [],
   "execution_count": 11
  },
  {
   "cell_type": "code",
   "id": "ca67c7ae",
   "metadata": {
    "ExecuteTime": {
     "end_time": "2024-08-11T19:57:38.566938Z",
     "start_time": "2024-08-11T19:57:38.557957Z"
    }
   },
   "source": "df.memory_usage().sum()",
   "outputs": [
    {
     "data": {
      "text/plain": [
       "np.int64(44000132)"
      ]
     },
     "execution_count": 12,
     "metadata": {},
     "output_type": "execute_result"
    }
   ],
   "execution_count": 12
  },
  {
   "cell_type": "markdown",
   "id": "2ce85aab",
   "metadata": {},
   "source": [
    "**count**"
   ]
  },
  {
   "cell_type": "code",
   "id": "bebd311f",
   "metadata": {
    "ExecuteTime": {
     "end_time": "2024-08-11T19:57:38.580301Z",
     "start_time": "2024-08-11T19:57:38.572480Z"
    }
   },
   "source": "print(df['count'].min(), df['count'].max())",
   "outputs": [
    {
     "name": "stdout",
     "output_type": "stream",
     "text": [
      "1 29\n"
     ]
    }
   ],
   "execution_count": 13
  },
  {
   "metadata": {
    "ExecuteTime": {
     "end_time": "2024-08-11T19:57:38.590010Z",
     "start_time": "2024-08-11T19:57:38.582635Z"
    }
   },
   "cell_type": "code",
   "source": "df['count'] = df['count'].astype(np.int8)",
   "id": "77f1eaafc9da7166",
   "outputs": [],
   "execution_count": 14
  },
  {
   "cell_type": "markdown",
   "id": "534f5922",
   "metadata": {},
   "source": [
    "**category**"
   ]
  },
  {
   "cell_type": "code",
   "id": "e480a88a",
   "metadata": {
    "ExecuteTime": {
     "end_time": "2024-08-11T19:57:39.197127Z",
     "start_time": "2024-08-11T19:57:38.592861Z"
    }
   },
   "source": [
    "cat_rols = df.select_dtypes(include='object').columns\n",
    "df[cat_rols] = df[cat_rols].astype('category')"
   ],
   "outputs": [],
   "execution_count": 15
  },
  {
   "metadata": {
    "ExecuteTime": {
     "end_time": "2024-08-11T19:57:39.211504Z",
     "start_time": "2024-08-11T19:57:39.201420Z"
    }
   },
   "cell_type": "code",
   "source": "df.memory_usage().sum()",
   "id": "e4c364c301ce744b",
   "outputs": [
    {
     "data": {
      "text/plain": [
       "np.int64(16000600)"
      ]
     },
     "execution_count": 16,
     "metadata": {},
     "output_type": "execute_result"
    }
   ],
   "execution_count": 16
  },
  {
   "cell_type": "markdown",
   "id": "dba2e532",
   "metadata": {},
   "source": [
    "**result**"
   ]
  },
  {
   "cell_type": "code",
   "id": "c8eb5633",
   "metadata": {
    "ExecuteTime": {
     "end_time": "2024-08-11T19:57:39.231127Z",
     "start_time": "2024-08-11T19:57:39.214525Z"
    }
   },
   "source": [
    "df_end = df.copy()"
   ],
   "outputs": [],
   "execution_count": 17
  },
  {
   "metadata": {
    "ExecuteTime": {
     "end_time": "2024-08-11T19:58:57.462108Z",
     "start_time": "2024-08-11T19:58:57.451863Z"
    }
   },
   "cell_type": "code",
   "source": "df_end.memory_usage().sum()",
   "id": "5d871cd01597f4bc",
   "outputs": [
    {
     "data": {
      "text/plain": [
       "np.int64(16000600)"
      ]
     },
     "execution_count": 20,
     "metadata": {},
     "output_type": "execute_result"
    }
   ],
   "execution_count": 20
  },
  {
   "metadata": {
    "ExecuteTime": {
     "end_time": "2024-08-11T19:58:31.114540Z",
     "start_time": "2024-08-11T19:58:31.104522Z"
    }
   },
   "cell_type": "code",
   "source": "df_start.memory_usage().sum()",
   "id": "a5b7b51ee8b2ed82",
   "outputs": [
    {
     "data": {
      "text/plain": [
       "np.int64(56000132)"
      ]
     },
     "execution_count": 19,
     "metadata": {},
     "output_type": "execute_result"
    }
   ],
   "execution_count": 19
  },
  {
   "metadata": {
    "ExecuteTime": {
     "end_time": "2024-08-11T19:58:07.141451Z",
     "start_time": "2024-08-11T19:58:07.130782Z"
    }
   },
   "cell_type": "code",
   "source": "print(f\"Memory usage decreased to {df_end.memory_usage().sum() / df_start.memory_usage().sum() * 100:.2f}%\")",
   "id": "683ecbf6166116c6",
   "outputs": [
    {
     "name": "stdout",
     "output_type": "stream",
     "text": [
      "Memory usage decreased to 28.57%\n"
     ]
    }
   ],
   "execution_count": 18
  }
 ],
 "metadata": {
  "kernelspec": {
   "display_name": "Python 3 (ipykernel)",
   "language": "python",
   "name": "python3"
  },
  "language_info": {
   "codemirror_mode": {
    "name": "ipython",
    "version": 3
   },
   "file_extension": ".py",
   "mimetype": "text/x-python",
   "name": "python",
   "nbconvert_exporter": "python",
   "pygments_lexer": "ipython3",
   "version": "3.11.5"
  }
 },
 "nbformat": 4,
 "nbformat_minor": 5
}
